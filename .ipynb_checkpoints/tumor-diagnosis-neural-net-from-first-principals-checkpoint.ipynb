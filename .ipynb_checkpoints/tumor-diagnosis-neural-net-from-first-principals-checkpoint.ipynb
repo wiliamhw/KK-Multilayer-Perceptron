{
 "cells": [
  {
   "cell_type": "markdown",
   "metadata": {
    "_uuid": "db127446584fb5bf3a34d099d174f781fa43211a"
   },
   "source": [
    "# Breast Cancer Tumor Diagnosis - Neural Network\n",
    "\n",
    "Hi there, welcome to my first Kaggle Kernel!  The purpose of this Kernel is to develop a neural network that is capable of accurately predicting whether a tumor is benign or malignant, given several measurements.\n",
    "\n",
    "The dataset we will be using is the 'Breast Cancer Wisconsin (Diagnostic) Data Set'.  The dataset contains 569 patients with breast tumors.  Several measurements and a diagnosis of malignant and benign are available for each patient.  The measurements will be used as features to make our predictions on the diagnosis."
   ]
  },
  {
   "cell_type": "markdown",
   "metadata": {},
   "source": [
    "# 1.Load and Evaluate Data"
   ]
  },
  {
   "cell_type": "code",
   "execution_count": 3,
   "metadata": {
    "_cell_guid": "b1076dfc-b9ad-4769-8c92-a6c4dae69d19",
    "_uuid": "8f2839f25d086af736a60e9eeb907d3b93b6e0e5",
    "jupyter": {
     "outputs_hidden": true
    }
   },
   "outputs": [],
   "source": [
    "# This Python 3 environment comes with many helpful analytics libraries installed\n",
    "# It is defined by the kaggle/python docker image: https://github.com/kaggle/docker-python\n",
    "# For example, here's several helpful packages to load in \n",
    "\n",
    "import numpy as np # linear algebra\n",
    "import pandas as pd # data processing, CSV file I/O (e.g. pd.read_csv)\n",
    "import matplotlib.pyplot as plt"
   ]
  },
  {
   "cell_type": "code",
   "execution_count": 4,
   "metadata": {
    "_cell_guid": "79c7e3d0-c299-4dcb-8224-4455121ee9b0",
    "_uuid": "d629ff2d2480ee46fbb7e2d37f6b5fab8052498a",
    "jupyter": {
     "outputs_hidden": true
    }
   },
   "outputs": [],
   "source": [
    "dataset=pd.read_csv(\"UCI Breast Cancer Wisconsin.csv\")"
   ]
  },
  {
   "cell_type": "code",
   "execution_count": 5,
   "metadata": {
    "_uuid": "3e1e136d1a33f55fb6ea0f266d5a56530aa03e62",
    "jupyter": {
     "outputs_hidden": true
    },
    "scrolled": true
   },
   "outputs": [
    {
     "data": {
      "text/html": [
       "<div>\n",
       "<style scoped>\n",
       "    .dataframe tbody tr th:only-of-type {\n",
       "        vertical-align: middle;\n",
       "    }\n",
       "\n",
       "    .dataframe tbody tr th {\n",
       "        vertical-align: top;\n",
       "    }\n",
       "\n",
       "    .dataframe thead th {\n",
       "        text-align: right;\n",
       "    }\n",
       "</style>\n",
       "<table border=\"1\" class=\"dataframe\">\n",
       "  <thead>\n",
       "    <tr style=\"text-align: right;\">\n",
       "      <th></th>\n",
       "      <th>id</th>\n",
       "      <th>diagnosis</th>\n",
       "      <th>radius_mean</th>\n",
       "      <th>texture_mean</th>\n",
       "      <th>perimeter_mean</th>\n",
       "      <th>area_mean</th>\n",
       "      <th>smoothness_mean</th>\n",
       "      <th>compactness_mean</th>\n",
       "      <th>concavity_mean</th>\n",
       "      <th>concave points_mean</th>\n",
       "      <th>...</th>\n",
       "      <th>texture_worst</th>\n",
       "      <th>perimeter_worst</th>\n",
       "      <th>area_worst</th>\n",
       "      <th>smoothness_worst</th>\n",
       "      <th>compactness_worst</th>\n",
       "      <th>concavity_worst</th>\n",
       "      <th>concave points_worst</th>\n",
       "      <th>symmetry_worst</th>\n",
       "      <th>fractal_dimension_worst</th>\n",
       "      <th>Unnamed: 32</th>\n",
       "    </tr>\n",
       "  </thead>\n",
       "  <tbody>\n",
       "    <tr>\n",
       "      <th>0</th>\n",
       "      <td>842302</td>\n",
       "      <td>M</td>\n",
       "      <td>17.99</td>\n",
       "      <td>10.38</td>\n",
       "      <td>122.80</td>\n",
       "      <td>1001.0</td>\n",
       "      <td>0.11840</td>\n",
       "      <td>0.27760</td>\n",
       "      <td>0.3001</td>\n",
       "      <td>0.14710</td>\n",
       "      <td>...</td>\n",
       "      <td>17.33</td>\n",
       "      <td>184.60</td>\n",
       "      <td>2019.0</td>\n",
       "      <td>0.1622</td>\n",
       "      <td>0.6656</td>\n",
       "      <td>0.7119</td>\n",
       "      <td>0.2654</td>\n",
       "      <td>0.4601</td>\n",
       "      <td>0.11890</td>\n",
       "      <td>NaN</td>\n",
       "    </tr>\n",
       "    <tr>\n",
       "      <th>1</th>\n",
       "      <td>842517</td>\n",
       "      <td>M</td>\n",
       "      <td>20.57</td>\n",
       "      <td>17.77</td>\n",
       "      <td>132.90</td>\n",
       "      <td>1326.0</td>\n",
       "      <td>0.08474</td>\n",
       "      <td>0.07864</td>\n",
       "      <td>0.0869</td>\n",
       "      <td>0.07017</td>\n",
       "      <td>...</td>\n",
       "      <td>23.41</td>\n",
       "      <td>158.80</td>\n",
       "      <td>1956.0</td>\n",
       "      <td>0.1238</td>\n",
       "      <td>0.1866</td>\n",
       "      <td>0.2416</td>\n",
       "      <td>0.1860</td>\n",
       "      <td>0.2750</td>\n",
       "      <td>0.08902</td>\n",
       "      <td>NaN</td>\n",
       "    </tr>\n",
       "    <tr>\n",
       "      <th>2</th>\n",
       "      <td>84300903</td>\n",
       "      <td>M</td>\n",
       "      <td>19.69</td>\n",
       "      <td>21.25</td>\n",
       "      <td>130.00</td>\n",
       "      <td>1203.0</td>\n",
       "      <td>0.10960</td>\n",
       "      <td>0.15990</td>\n",
       "      <td>0.1974</td>\n",
       "      <td>0.12790</td>\n",
       "      <td>...</td>\n",
       "      <td>25.53</td>\n",
       "      <td>152.50</td>\n",
       "      <td>1709.0</td>\n",
       "      <td>0.1444</td>\n",
       "      <td>0.4245</td>\n",
       "      <td>0.4504</td>\n",
       "      <td>0.2430</td>\n",
       "      <td>0.3613</td>\n",
       "      <td>0.08758</td>\n",
       "      <td>NaN</td>\n",
       "    </tr>\n",
       "    <tr>\n",
       "      <th>3</th>\n",
       "      <td>84348301</td>\n",
       "      <td>M</td>\n",
       "      <td>11.42</td>\n",
       "      <td>20.38</td>\n",
       "      <td>77.58</td>\n",
       "      <td>386.1</td>\n",
       "      <td>0.14250</td>\n",
       "      <td>0.28390</td>\n",
       "      <td>0.2414</td>\n",
       "      <td>0.10520</td>\n",
       "      <td>...</td>\n",
       "      <td>26.50</td>\n",
       "      <td>98.87</td>\n",
       "      <td>567.7</td>\n",
       "      <td>0.2098</td>\n",
       "      <td>0.8663</td>\n",
       "      <td>0.6869</td>\n",
       "      <td>0.2575</td>\n",
       "      <td>0.6638</td>\n",
       "      <td>0.17300</td>\n",
       "      <td>NaN</td>\n",
       "    </tr>\n",
       "    <tr>\n",
       "      <th>4</th>\n",
       "      <td>84358402</td>\n",
       "      <td>M</td>\n",
       "      <td>20.29</td>\n",
       "      <td>14.34</td>\n",
       "      <td>135.10</td>\n",
       "      <td>1297.0</td>\n",
       "      <td>0.10030</td>\n",
       "      <td>0.13280</td>\n",
       "      <td>0.1980</td>\n",
       "      <td>0.10430</td>\n",
       "      <td>...</td>\n",
       "      <td>16.67</td>\n",
       "      <td>152.20</td>\n",
       "      <td>1575.0</td>\n",
       "      <td>0.1374</td>\n",
       "      <td>0.2050</td>\n",
       "      <td>0.4000</td>\n",
       "      <td>0.1625</td>\n",
       "      <td>0.2364</td>\n",
       "      <td>0.07678</td>\n",
       "      <td>NaN</td>\n",
       "    </tr>\n",
       "  </tbody>\n",
       "</table>\n",
       "<p>5 rows × 33 columns</p>\n",
       "</div>"
      ],
      "text/plain": [
       "         id diagnosis  radius_mean  texture_mean  perimeter_mean  area_mean  \\\n",
       "0    842302         M        17.99         10.38          122.80     1001.0   \n",
       "1    842517         M        20.57         17.77          132.90     1326.0   \n",
       "2  84300903         M        19.69         21.25          130.00     1203.0   \n",
       "3  84348301         M        11.42         20.38           77.58      386.1   \n",
       "4  84358402         M        20.29         14.34          135.10     1297.0   \n",
       "\n",
       "   smoothness_mean  compactness_mean  concavity_mean  concave points_mean  \\\n",
       "0          0.11840           0.27760          0.3001              0.14710   \n",
       "1          0.08474           0.07864          0.0869              0.07017   \n",
       "2          0.10960           0.15990          0.1974              0.12790   \n",
       "3          0.14250           0.28390          0.2414              0.10520   \n",
       "4          0.10030           0.13280          0.1980              0.10430   \n",
       "\n",
       "   ...  texture_worst  perimeter_worst  area_worst  smoothness_worst  \\\n",
       "0  ...          17.33           184.60      2019.0            0.1622   \n",
       "1  ...          23.41           158.80      1956.0            0.1238   \n",
       "2  ...          25.53           152.50      1709.0            0.1444   \n",
       "3  ...          26.50            98.87       567.7            0.2098   \n",
       "4  ...          16.67           152.20      1575.0            0.1374   \n",
       "\n",
       "   compactness_worst  concavity_worst  concave points_worst  symmetry_worst  \\\n",
       "0             0.6656           0.7119                0.2654          0.4601   \n",
       "1             0.1866           0.2416                0.1860          0.2750   \n",
       "2             0.4245           0.4504                0.2430          0.3613   \n",
       "3             0.8663           0.6869                0.2575          0.6638   \n",
       "4             0.2050           0.4000                0.1625          0.2364   \n",
       "\n",
       "   fractal_dimension_worst  Unnamed: 32  \n",
       "0                  0.11890          NaN  \n",
       "1                  0.08902          NaN  \n",
       "2                  0.08758          NaN  \n",
       "3                  0.17300          NaN  \n",
       "4                  0.07678          NaN  \n",
       "\n",
       "[5 rows x 33 columns]"
      ]
     },
     "execution_count": 5,
     "metadata": {},
     "output_type": "execute_result"
    }
   ],
   "source": [
    "dataset.head() #lets take a look at our data structure"
   ]
  },
  {
   "cell_type": "code",
   "execution_count": 6,
   "metadata": {
    "_uuid": "f7a080b5f5dce976a704b6a627cace7ac83b00a6",
    "jupyter": {
     "outputs_hidden": true
    },
    "scrolled": true
   },
   "outputs": [
    {
     "data": {
      "text/plain": [
       "(569, 33)"
      ]
     },
     "execution_count": 6,
     "metadata": {},
     "output_type": "execute_result"
    }
   ],
   "source": [
    "dataset.shape #Let's take a look at the dimensions of our data"
   ]
  },
  {
   "cell_type": "markdown",
   "metadata": {},
   "source": [
    "# 2.Feature Engineering"
   ]
  },
  {
   "cell_type": "markdown",
   "metadata": {
    "_uuid": "4c98a48b27f6d9f8291be7040e7f68e5ceab981f"
   },
   "source": [
    "The data has 569 rows, each representing a single patient, with 28 measurements each (note: there are 31 columns, but column 1 is an ID, column 2 is a diagnosis, and the 32nd is not a measurement)\n",
    "\n",
    "We are now going to proceed by massaging the data.  The following steps will be taken to prepare the data for our neural network:\n",
    "*  Replace the diagnosis of \"M\" for malignant with 1, and \"B\" for benign with 0\n",
    "*  Remove the 32nd column (not sure why this is included, it is a column of 'NaN' values.  Perhaps this was erroneously included in the dataset)\n",
    "* Remove the 'id' column.  These values will not be needed to create our neural network.\n",
    "*  Split our dataset into two: a calssification vector (diagnosis) and our feature matrix (the 28 measurements)\n",
    "* Normalize our feature matrix by forcing the mean of each measurement  to 0, and dividing each measurement by the maximum value of that measurement in the dataset."
   ]
  },
  {
   "cell_type": "code",
   "execution_count": 7,
   "metadata": {
    "_uuid": "8ac88d93e228e57bc444ebeb44be8291af837d16",
    "jupyter": {
     "outputs_hidden": true
    }
   },
   "outputs": [],
   "source": [
    "d = {'M':1,'B':0}\n",
    "dataset = dataset.replace(d) #replace M/B with 0 or 1 for the neural net classification\n",
    "dataset = dataset.drop(['Unnamed: 32'],axis=1) #remove column 32 - unknown purpose\n",
    "dataset = dataset.drop(['id'],axis=1) #remove the id - not needed for the neural net"
   ]
  },
  {
   "cell_type": "code",
   "execution_count": 8,
   "metadata": {
    "_uuid": "252f436ecb1f1f5c5d58a276138edfeef003f04c",
    "jupyter": {
     "outputs_hidden": true
    }
   },
   "outputs": [],
   "source": [
    "dataset_temp = dataset.drop(['diagnosis'],axis=1) #make a temporary dataset with only our feature vectors\n",
    "X = np.array(dataset_temp).T #create our Numpy array of feature vectors to be used in our neural net\n",
    "Y = np.array(dataset['diagnosis']).T #create our Numpy array of diagnosis to be used in our neural net\n",
    "Y = Y.reshape(1,569)"
   ]
  },
  {
   "cell_type": "code",
   "execution_count": 9,
   "metadata": {
    "_uuid": "dcf93d0b4694bb094ae537f5eecbd4b006e0a259",
    "jupyter": {
     "outputs_hidden": true
    }
   },
   "outputs": [],
   "source": [
    "#Now, let's normalized our feature vector.  We will force the mean of each column to 0, and divide by the maximum\n",
    "X_mean = np.mean(X,axis=1,keepdims=True) #Find the mean of each feature\n",
    "X_max = np.max(X,axis=1,keepdims=True) #Find the maximum of each feature\n",
    "X_normalized = (X-X_mean)/(X_max) #Normalizing our dataset by subtracting the mean and dividing by the max"
   ]
  },
  {
   "cell_type": "markdown",
   "metadata": {},
   "source": [
    "# 3. Select and Train Model"
   ]
  },
  {
   "cell_type": "markdown",
   "metadata": {
    "_uuid": "6ea455d4339bfbe10a7ca7127f96eca415cbe1b2"
   },
   "source": [
    "Our data is almost ready to be used to create our neural network.  Before doing so, we will split our data into a test set and a cross-validation set.\n",
    "\n",
    "The training set will use the first 380 patients, and the cross-validation set will use the remaining 188.  Our neural network will be trained on the training set, and it's accuracy will be validated on the cross-validation set."
   ]
  },
  {
   "cell_type": "code",
   "execution_count": 10,
   "metadata": {
    "_uuid": "98ff954a253ab69f7dbdf8f5a53eb2e56b661d86",
    "jupyter": {
     "outputs_hidden": true
    },
    "scrolled": true
   },
   "outputs": [],
   "source": [
    "#Now, let's split our dataset into two segments\n",
    "# 1) Training set to train our neural net\n",
    "# 2) A cross validation set to test the accuracy of our neural net\n",
    "\n",
    "#We'll take the first 380 samples for our training set\n",
    "X_train = X_normalized[:,:380]\n",
    "Y_train = Y[:,:380]\n",
    "\n",
    "#We will take the remaining 189 for our cross-validation set\n",
    "X_cv = X_normalized[:,381:]\n",
    "Y_cv = Y[:,381:]"
   ]
  },
  {
   "cell_type": "markdown",
   "metadata": {
    "_uuid": "c94f2d05d5829f84f3aa880f4dfa6dbf3d64e223"
   },
   "source": [
    "Now that our data has been massaged and split into our training and cross-validation sets, we can discuss the structure of the neural network.\n",
    "\n",
    "* The neural network will have one input layer, two hidden layers, and one output layer.\n",
    "* Hidden layer 1 will have 3 nodes, and hidden layer 2 will have 2 nodes.\n",
    "* The two hidden layers will use a tanh(x) activation function, and the output layer will use a sigmoid activation function. \n",
    "\n",
    "*Note:  I have decided to use tanh(x) rather than sigmoid(x) in the hidden layers, as this will allow the data to be more centered*\n",
    "\n",
    "See below for a visual representation of our neural network:\n",
    "\n",
    "<img src=\"https://i.imgur.com/ZNLunIV.png\" width=\"500px\"/>\n",
    "\n",
    "We will now define our activation functions to be used in our hidden layers:"
   ]
  },
  {
   "cell_type": "code",
   "execution_count": 11,
   "metadata": {
    "_uuid": "44e71464b2ab37a74d74a21ca79b254ca0ba09df",
    "jupyter": {
     "outputs_hidden": true
    }
   },
   "outputs": [],
   "source": [
    "#We will now define our sigmoid function to be used in the output layer of our neural network (L3)\n",
    "def sigmoid(z):\n",
    "    s = 1/(1+np.exp(-z))\n",
    "    return s"
   ]
  },
  {
   "cell_type": "code",
   "execution_count": 12,
   "metadata": {
    "_uuid": "a003bfc32072b503a6cc51da883ac9763163b374",
    "jupyter": {
     "outputs_hidden": true
    }
   },
   "outputs": [],
   "source": [
    "#We will now define our tanh(x) function to be used in hidden layers of our neural network (L1, L2)\n",
    "#Note that the tanh(x) function allows better centering of data than the sigmoid function.  This is why it will be used in our hidden layers.\n",
    "\n",
    "def tanh(z):\n",
    "    s = (np.exp(z) - np.exp(-z)) / (np.exp(z) + np.exp(-z))\n",
    "    return s"
   ]
  },
  {
   "cell_type": "markdown",
   "metadata": {
    "_uuid": "65aa5254230ccd3b9779cbc346ef01df4118d250"
   },
   "source": [
    "We now have our activation functions, and can proceed with defining our forward propogation algorithm.\n",
    "\n",
    "To optimize our code, we will be using a vectorized implementation of forward propogation.  To do so, the following formulas will be used:\n",
    "\n",
    "*Note: x means matrix multiplication*\n",
    "\n",
    "**Layer 1**\n",
    "\n",
    "* Z1 = W1.T x X where W1 represents our matrix of weights in L1, and X represents our feature matrix of measures\n",
    "* A1 = tanh(Z1 + b1) where b1 represents our intercept term for our first layer\n",
    "\n",
    "**Layer 2**\n",
    "\n",
    "* Z2 = W2.T x A1 where W2 represents our matrix of weights in L2\n",
    "* A2 = tanh(Z2 + b2) where b2 represents our intercept term for our second layer\n",
    "\n",
    "**Layer 3**\n",
    "\n",
    "* Z3 = W3.T x A2 where W3 represents our matrix of weights in L3\n",
    "* A3= tanh(Z3 + b3) where b3 represents our intercept term for our second layer\n",
    "\n",
    "Finally, we will store all of the above Al and Zl values in a data dictionary, which will be useful for our back propogation and gradient descent algorithm.\n"
   ]
  },
  {
   "cell_type": "code",
   "execution_count": 13,
   "metadata": {
    "_uuid": "e21ddeed725ea8694b6b3c37ec97342fcb5eeb05",
    "jupyter": {
     "outputs_hidden": true
    }
   },
   "outputs": [],
   "source": [
    "#Now, let's define our forward propogation function.\n",
    "def forward_prop(X,W1,W2,W3,b1,b2,b3):\n",
    "    \n",
    "    #First layer forward propogation\n",
    "    Z1 = np.dot(W1,X)\n",
    "    A1 = tanh(Z1 + b1)\n",
    "    #Second layer forward propogation\n",
    "    Z2 = np.dot(W2,A1)\n",
    "    A2 = tanh(Z2 + b2)\n",
    "    #Third layer forward propogation\n",
    "    Z3 = np.dot(W3,A2)\n",
    "    A3 = sigmoid(Z3 + b3) #A3 will produce our probability vector\n",
    "    \n",
    "    cache = {    \n",
    "                  \"Z1\": Z1,\n",
    "                  \"A1\": A1,\n",
    "                  \"Z2\": Z2,\n",
    "                  \"A2\": A2,\n",
    "                  \"Z3\": Z3,\n",
    "                  \"A3\": A3\n",
    "            }\n",
    "    return cache"
   ]
  },
  {
   "cell_type": "markdown",
   "metadata": {
    "_uuid": "829ed747f35c4aadfd06a0dc32855de1745401d7"
   },
   "source": [
    "Now that we have our forward propogation algorithm, we can proceed with back propogation and gradient descent.  The following steps will be carried out to perform gradient descent, and determine our optimized weight values for each layer:\n",
    "\n",
    "1. Start by randomly initializing our weight and intercept parameters\n",
    "1. Run forward propogation through our neural network\n",
    "1. Calculate the derivatives of our weights and intercept parameters via back propogation\n",
    "1. Refine our parameters using derivatives from (3)\n",
    "1. Reiterate 1 - 4 x times\n",
    "\n",
    "Our cost function will be defined by the following:\n",
    "\n",
    ">cost = -(1 / m)*np.sum(np.multiply(Y,np.log(A3)) + np.multiply((1-Y),np.log(1-A3)))\n",
    "\n",
    ">Where m is the number of training examples we are using. \n",
    "\n",
    ">*This is the general cost function often used when the output layer activation is a sigmoid function.  For those familiar with statistics, this is derived using maximum likelihood.*\n",
    "\n",
    "\n",
    "The following general formulas will be used for calculating our weight derivatives for each layer (note these are partial derivatives w.r.t to the cost function described above).  \n",
    "\n",
    "The general results can be derived using the chain rule (many times!):\n",
    "\n",
    ">Note: * means element wise multiplication\n",
    "\n",
    "> dZ[l] = dA[l]  * g'[l]{Z[l]} where g'[l]{Z[l]} is the derivative of our activation function at layer l, evaluated at Z[l]\n",
    "\n",
    ">dA[l-1] = W[l].T x dZ[l]\n",
    "\n",
    ">Finally,\n",
    "\n",
    ">**dW[l] = (1 / m)*dZ[l] x A[l-1].T**\n",
    "\n",
    ">and\n",
    "\n",
    ">**db[l] =(1 / m) * column sum of dZ[l]**\n",
    "\n",
    "\n",
    "Our parameters will be updated using the following formula after each iteration to bring the cost function closer to it's global minimum:\n",
    "\n",
    "alpha = 'learning rate' hyperparameter\n",
    "\n",
    "\n",
    ">W1 := W1 - alpha*dW1\n",
    "\n",
    ">W2 := W2 - alpha*'W2\n",
    "\n",
    ">W3 := W3 - alpha*W3\n",
    "\n",
    ">b1 := b1 - alpha*b1\n",
    "\n",
    ">b2 := b2 - alpha*db2\n",
    "\n",
    ">b3 := b3 - alpha*db3\n",
    "\n",
    "\n",
    "After each parameter update, we will rerun our forward propogation and calculate our cost function.  We will then store it in an array so we can use it in later analysis of our models performance.\n",
    "\n",
    "One final note on the formulas above: for the first iteration of back propogation, dA[3] = -Y/A3 + (1-Y)/(1-A)"
   ]
  },
  {
   "cell_type": "code",
   "execution_count": 14,
   "metadata": {
    "_uuid": "e3e87f070af3969103ca84027a232be619ac476c",
    "jupyter": {
     "outputs_hidden": true
    }
   },
   "outputs": [],
   "source": [
    "#Now we will perform gradient descent for our neural network in the following steps:\n",
    "#1) Start by randomly initializing our weight and intercept parameters\n",
    "#2) Run forward propogation through our neural network\n",
    "#3) Calculate the derivatives of our weights and intercept parameters via back propogation\n",
    "#4) Refine our parameters using derivatives from (3)\n",
    "#5) Reiterate 1 - 4 \n",
    "\n",
    "def gradient_descent(iterations,X,Y,alpha):\n",
    "    \n",
    "    #Randomly initialized our parameters before running the algorithm\n",
    "    W1 = np.random.randn(3,30)*0.01\n",
    "    b1 = np.random.rand(3,1)\n",
    "    W2 = np.random.randn(2,3)*0.01\n",
    "    b2 = np.random.rand(2,1)\n",
    "    W3 = np.random.rand(1,2)*0.01\n",
    "    b3 = np.random.rand(1,1)\n",
    "    dummy,m = X.shape\n",
    "    \n",
    "    caches = [] #we will store our cost at each iteration in this array\n",
    "    count_vector = [] #We will store our iteration count in this array\n",
    "    count = 0\n",
    "    \n",
    "    for i in range (1,iterations):\n",
    "        \n",
    "            count = count + 1\n",
    "            \n",
    "            count_vector.append(count)\n",
    "        \n",
    "            params = forward_prop(X,W1,W2,W3,b1,b2,b3) #forward propogation using our parameters\n",
    "            \n",
    "            #Define our values to be used in back propogation using the dictionary of values created from running forward_prop\n",
    "            Z1 = params['Z1']\n",
    "            Z2 = params['Z2']\n",
    "            Z3 = params['Z3']\n",
    "            A1 = params['A1']\n",
    "            A2 = params['A2']\n",
    "            A3 = params['A3']\n",
    "            \n",
    "            #Define our cost function, append the cost of each iteration to caches\n",
    "            cost = -(1 / m)*np.sum(np.multiply(Y,np.log(A3)) + np.multiply((1-Y),np.log(1-A3)))\n",
    "            caches.append(cost)\n",
    "            \n",
    "            #Back propogation for layer 3\n",
    "            dA3 = -Y/A3 + (1-Y)/(1-A3)\n",
    "            dZ3 = dA3 * sigmoid(Z3)*(1-sigmoid(Z3))\n",
    "            dW3 = (1 / m)*np.dot(dZ3,A2.T)\n",
    "            db3 = (1 / m)*np.sum(dZ3,axis=1,keepdims=True)\n",
    "            \n",
    "            #Back propogation for layer 2\n",
    "            dA2 = np.dot(W3.T,dZ3)\n",
    "            dZ2 = dA2*(1-np.power(tanh(Z2),2))\n",
    "            dW2 = (1 / m)*np.dot(dZ2,A1.T)\n",
    "            db2 = (1 / m)*np.sum(dZ2,axis=1,keepdims=True)\n",
    "            \n",
    "            #Back propogation for layer 1\n",
    "            dA1 = np.dot(W2.T,dZ2)\n",
    "            dZ1 = dA1*(1-np.power(tanh(Z1),2))\n",
    "            dW1 = (1 / m)*np.dot(dZ1,X.T)\n",
    "            db1 = (1 / m)*np.sum(dZ1,axis=1,keepdims=True)\n",
    "            \n",
    "            #Redefine our weight parameters using the derivatives calculated in back propogation\n",
    "            W1 = W1 - alpha*dW1\n",
    "            W2 = W2 - alpha*dW2\n",
    "            W3 = W3 - alpha*dW3\n",
    "            \n",
    "            #Redefine our weight parameters using the derivatives calculated in back propogation\n",
    "            b1 = b1 - alpha*db1\n",
    "            b2 = b2 - alpha*db2\n",
    "            b3 = b3 - alpha*db3\n",
    "        \n",
    "    return W1,W2,W3,b1,b2,b3,count_vector,caches"
   ]
  },
  {
   "cell_type": "markdown",
   "metadata": {},
   "source": [
    "# 4.Evaluate Neural Network"
   ]
  },
  {
   "cell_type": "markdown",
   "metadata": {
    "_uuid": "8d58641dd133d8b2331be961ef5fc6ac43ae5b3d"
   },
   "source": [
    "Our gradient descent algorithm is complete.  Before proceeding, we should make sure that our algorithm has been coded correctly, and is behaving as expected.  Recall that we store our cost function values in an array.  We are now going to use them to validate that our algoirthm is behaving appropriately.\n",
    "\n",
    "If our algorithm is working as intended, we should see, in general, a decreasing cost function with each iteration.  Additionally, we should see our cost function eventually flatten out.  This means that adding additional iterations doesn't help improve it much. Using our cross-validation set, let's select a learning rate (alpha) of 0.5, and plot our cost function value vs. our iterations over 1000 iterations to see if this pattern can be observed:"
   ]
  },
  {
   "cell_type": "code",
   "execution_count": 15,
   "metadata": {
    "_uuid": "aa17ae7424274b0708e7b0f5d39ba1264f8e756e",
    "jupyter": {
     "outputs_hidden": true
    }
   },
   "outputs": [
    {
     "data": {
      "image/png": "[encoded data removed]",
      "text/plain": [
       "<Figure size 432x288 with 1 Axes>"
      ]
     },
     "metadata": {
      "needs_background": "light"
     },
     "output_type": "display_data"
    }
   ],
   "source": [
    "#Lets see if our algorithm is working.  We should see a declining learning curve with iteration, which eventually flatterns out\n",
    "#This will help us determine the appropriate number of iterations to run to determine the appropriate parameters\n",
    "#Note: we will use a learning rate of 0.5 for now\n",
    "\n",
    "W1,W2,W3,b1,b2,b3,count,caches = gradient_descent(1000,X_cv,Y_cv,0.5)\n",
    "\n",
    "plt.plot(count,caches,label='Cost')\n",
    "\n",
    "plt.xlabel('Iteration')\n",
    "plt.ylabel('Cost')\n",
    "\n",
    "plt.title(\"Cost vs. Iteration\")\n",
    "\n",
    "plt.legend()\n",
    "\n",
    "plt.show()"
   ]
  },
  {
   "cell_type": "markdown",
   "metadata": {
    "_uuid": "d4546d0fa36e4321bcd86d56fcbf16e38c109182"
   },
   "source": [
    "Our algorithm is behaving as expected.  Now to complete our predictions vector.\n",
    "\n",
    "Recall that the output of our neural network after performing forward propogation is a probability that a tumor is malignant, given our input vector X.  We therefore must set a certain 'threshold probability' for when we classify a tumor as malignant or benign.  Let's set our threshold to be 50%.  That is, if our model outputs a prediction of 0.5 or higher, we will classify the tumor as malignant.  Let's put this idea into code:"
   ]
  },
  {
   "cell_type": "code",
   "execution_count": 16,
   "metadata": {
    "_uuid": "d031671670e1c050aa554869fd47df884ec846b7",
    "jupyter": {
     "outputs_hidden": true
    }
   },
   "outputs": [],
   "source": [
    "\n",
    "def predict(X,Y,iterations,alpha,X_train,Y_train):\n",
    "\n",
    "    W1,W2,W3,b1,b2,b3,count,caches = gradient_descent(iterations,X_train,Y_train,alpha)\n",
    "    \n",
    "    Z1 = np.dot(W1,X)\n",
    "    A1 = tanh(Z1 + b1)\n",
    "    Z2 = np.dot(W2,A1)\n",
    "    A2 = tanh(Z2 + b2)\n",
    "    Z3 = np.dot(W3,A2)\n",
    "    A3 = sigmoid(Z3 + b3)\n",
    "    \n",
    "    dummy,m = A3.shape\n",
    "    Y_prediction = np.zeros((1, m))\n",
    "    \n",
    "    for i in range(m):\n",
    "        \n",
    "        Y_prediction[0, i] = 1 if A3[0, i] > 0.5 else 0\n",
    "        \n",
    "    return Y_prediction"
   ]
  },
  {
   "cell_type": "markdown",
   "metadata": {
    "_uuid": "dd3aca9995bc7d39d0bf883b482926b4987baaa6"
   },
   "source": [
    "We now have our vector of predictions, and we are ready to test the accuracy of our neural network.  \n",
    "\n",
    "Let's test the accuracy on both the training set and cross-validation set.  We should expect to see the accuracy on the training set to be a little higher, due to the weight parameters being biased towards what it has been trained with."
   ]
  },
  {
   "cell_type": "code",
   "execution_count": 17,
   "metadata": {
    "_uuid": "6097aae489f0dda7ece73f8d06e78fdf2cef97dc",
    "jupyter": {
     "outputs_hidden": true
    },
    "scrolled": true
   },
   "outputs": [
    {
     "name": "stdout",
     "output_type": "stream",
     "text": [
      "Train accuracy: 98.94736842105263 %\n",
      "Cross validation accuracy: 96.80851063829788 %\n"
     ]
    }
   ],
   "source": [
    "#Lets see how accurate the predictions made by our neural network are compared to the training set and cross validation set\n",
    "print(\"Train accuracy: {} %\".format(100 - np.mean(np.abs(predict(X_train,Y_train,1000,0.5,X_train,Y_train) - Y_train)) * 100))\n",
    "print(\"Cross validation accuracy: {} %\".format(100 - np.mean(np.abs(predict(X_cv,Y_cv,1000,0.5,X_train,Y_train) - Y_cv)) * 100))"
   ]
  },
  {
   "cell_type": "markdown",
   "metadata": {
    "_uuid": "ebb05caf62de07b464072308453ad6583d10a194"
   },
   "source": [
    "Our predictions look great overall!  However, it is important to see the accuracy of predictions for both the malignant and benign tumors individually.\n",
    "\n",
    "(E.g. is our accuracy only high because we're able to predict 100% of the negatives, but a smaller fraction (say, 80%) of the positives?)\n",
    "\n",
    "Let's start by taking a look at how accurately we can predict malignant tumors:"
   ]
  },
  {
   "cell_type": "code",
   "execution_count": 18,
   "metadata": {
    "_uuid": "d4ac3b37c49e49d31ea453a5cea575c4d99824fc",
    "jupyter": {
     "outputs_hidden": true
    }
   },
   "outputs": [
    {
     "name": "stdout",
     "output_type": "stream",
     "text": [
      "165 positives predicted on the training set\n",
      "168 true positives are in the training set\n",
      "The accuracy of true positives on the training set is: 98.21428571428571 %\n",
      "----------------------------------------------------------------\n",
      "43 positives predicted on the cross validation set\n",
      "43 true positives are in the cross validation set\n",
      "The accuracy of true positives on the cross validation set is: 100.0 %\n"
     ]
    }
   ],
   "source": [
    "dummy,m1 = X_train.shape\n",
    "dummy,m2 = X_cv.shape\n",
    "\n",
    "train_predict = predict(X_train,Y_train,1000,0.5,X_train,Y_train)\n",
    "CV_predict = predict(X_cv,Y_cv,1000,0.5,X_train,Y_train)\n",
    "count_true_pos = 0\n",
    "count_train_pos = 0\n",
    "\n",
    "count_true_pos_cv = 0\n",
    "count_cv_pos = 0\n",
    "\n",
    "for i in range (1,m1):\n",
    "    if train_predict[0,i] == 1 and Y_train[0,i] == 1:\n",
    "        count_true_pos = count_true_pos + 1\n",
    "    if Y_train[0,i] == 1:\n",
    "        count_train_pos = count_train_pos + 1\n",
    "        \n",
    "for i in range (1,m2):\n",
    "    if CV_predict[0,i] == 1 and Y_cv[0,i] == 1:\n",
    "        count_true_pos_cv = count_true_pos_cv + 1\n",
    "    if Y_cv[0,i] == 1:\n",
    "        count_cv_pos = count_cv_pos + 1\n",
    "        \n",
    "print(str(count_true_pos) + \" positives predicted on the training set\")\n",
    "print(str(count_train_pos) + \" true positives are in the training set\")\n",
    "print(\"The accuracy of true positives on the training set is: {} %\".format(100-np.abs(100*((count_true_pos - count_train_pos)/count_train_pos))))\n",
    "print(\"----------------------------------------------------------------\")\n",
    "print(str(count_true_pos_cv) + \" positives predicted on the cross validation set\")\n",
    "print(str(count_cv_pos) + \" true positives are in the cross validation set\")\n",
    "print(\"The accuracy of true positives on the cross validation set is: {} %\".format(100-np.abs(100*((count_true_pos_cv - count_cv_pos)/count_true_pos_cv))))\n",
    "\n",
    "    "
   ]
  },
  {
   "cell_type": "markdown",
   "metadata": {
    "_uuid": "6aed1329c227e52fb189c29a3997cda2a49badde"
   },
   "source": [
    "Accuracy looks great on predicting malignant tumors for both our training set and cross-validation set.\n",
    "\n",
    "Now, let's take a look at how accurate the neural network is on predicting benign tumors:"
   ]
  },
  {
   "cell_type": "code",
   "execution_count": 19,
   "metadata": {
    "_uuid": "15f0845520e672812213999e05863e235dac48ce",
    "jupyter": {
     "outputs_hidden": true
    },
    "scrolled": true
   },
   "outputs": [
    {
     "name": "stdout",
     "output_type": "stream",
     "text": [
      "210 negatives predicted on the training set\n",
      "211 true negatives are in the training set\n",
      "The accuracy of true negatives on the training set is: 99.5260663507109 %\n",
      "----------------------------------------------------------------\n",
      "139 negatives predicted on the cross validation set\n",
      "144 true negatives are in the cross validation set\n",
      "The accuracy of true negatives on the cross validation set is: 96.40287769784173 %\n"
     ]
    }
   ],
   "source": [
    "count_true_neg = 0\n",
    "count_train_neg = 0\n",
    "\n",
    "count_true_neg_cv = 0\n",
    "count_cv_neg = 0\n",
    "\n",
    "for i in range (1,m1):\n",
    "    if train_predict[0,i] == 0 and Y_train[0,i] == 0:\n",
    "        count_true_neg = count_true_neg + 1\n",
    "    if Y_train[0,i] == 0:\n",
    "        count_train_neg = count_train_neg + 1\n",
    "        \n",
    "for i in range (1,m2):\n",
    "    if CV_predict[0,i] == 0 and Y_cv[0,i] == 0:\n",
    "        count_true_neg_cv = count_true_neg_cv + 1\n",
    "    if Y_cv[0,i] == 0:\n",
    "        count_cv_neg = count_cv_neg + 1\n",
    "        \n",
    "print(str(count_true_neg) + \" negatives predicted on the training set\")\n",
    "print(str(count_train_neg) + \" true negatives are in the training set\")\n",
    "print(\"The accuracy of true negatives on the training set is: {} %\".format(100-np.abs(100*((count_true_neg - count_train_neg)/count_train_neg))))\n",
    "print(\"----------------------------------------------------------------\")\n",
    "print(str(count_true_neg_cv) + \" negatives predicted on the cross validation set\")\n",
    "print(str(count_cv_neg) + \" true negatives are in the cross validation set\")\n",
    "print(\"The accuracy of true negatives on the cross validation set is: {} %\".format(100-np.abs(100*((count_true_neg_cv - count_cv_neg)/count_true_neg_cv))))"
   ]
  },
  {
   "cell_type": "markdown",
   "metadata": {
    "_uuid": "b24c2fafcf15db71c08f8dbd3253184c0a880cd1"
   },
   "source": [
    "Accuracy looks good on predicting benign tumors for the training set and cross validation set\n",
    "\n",
    "It looks like we have successfully created a neural network to accurately predict malignant or benign brain tumors!"
   ]
  },
  {
   "cell_type": "markdown",
   "metadata": {
    "_uuid": "d94be1a61451263c8c3fd50a9f92db23abf76682",
    "collapsed": true,
    "jupyter": {
     "outputs_hidden": true
    }
   },
   "source": [
    "# 5.Weka Result"
   ]
  },
  {
   "cell_type": "markdown",
   "metadata": {},
   "source": [
    "<img src=\"./WEKA Result.jpg\" width=\"500px\"/>\n",
    "![title](./WEKA Result.jpgg)"
   ]
  },
  {
   "cell_type": "code",
   "execution_count": null,
   "metadata": {},
   "outputs": [],
   "source": []
  }
 ],
 "metadata": {
  "kernelspec": {
   "display_name": "Python 3",
   "language": "python",
   "name": "python3"
  },
  "language_info": {
   "codemirror_mode": {
    "name": "ipython",
    "version": 3
   },
   "file_extension": ".py",
   "mimetype": "text/x-python",
   "name": "python",
   "nbconvert_exporter": "python",
   "pygments_lexer": "ipython3",
   "version": "3.8.8"
  }
 },
 "nbformat": 4,
 "nbformat_minor": 4
}
